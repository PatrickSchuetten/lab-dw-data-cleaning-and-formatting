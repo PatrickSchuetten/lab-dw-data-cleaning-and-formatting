{
 "cells": [
  {
   "cell_type": "markdown",
   "id": "25d7736c-ba17-4aff-b6bb-66eba20fbf4e",
   "metadata": {
    "id": "25d7736c-ba17-4aff-b6bb-66eba20fbf4e"
   },
   "source": [
    "# Lab | Data Cleaning and Formatting"
   ]
  },
  {
   "cell_type": "markdown",
   "id": "d1973e9e-8be6-4039-b70e-d73ee0d94c99",
   "metadata": {
    "id": "d1973e9e-8be6-4039-b70e-d73ee0d94c99"
   },
   "source": [
    "In this lab, we will be working with the customer data from an insurance company, which can be found in the CSV file located at the following link: https://raw.githubusercontent.com/data-bootcamp-v4/data/main/file1.csv\n"
   ]
  },
  {
   "cell_type": "markdown",
   "id": "31b8a9e7-7db9-4604-991b-ef6771603e57",
   "metadata": {
    "id": "31b8a9e7-7db9-4604-991b-ef6771603e57"
   },
   "source": [
    "# Challenge 1: Data Cleaning and Formatting"
   ]
  },
  {
   "cell_type": "markdown",
   "id": "81553f19-9f2c-484b-8940-520aff884022",
   "metadata": {
    "id": "81553f19-9f2c-484b-8940-520aff884022"
   },
   "source": [
    "## Exercise 1: Cleaning Column Names"
   ]
  },
  {
   "cell_type": "markdown",
   "id": "34a929f4-1be4-4fa8-adda-42ffd920be90",
   "metadata": {
    "id": "34a929f4-1be4-4fa8-adda-42ffd920be90"
   },
   "source": [
    "To ensure consistency and ease of use, standardize the column names of the dataframe. Start by taking a first look at the dataframe and identifying any column names that need to be modified. Use appropriate naming conventions and make sure that column names are descriptive and informative.\n",
    "\n",
    "*Hint*:\n",
    "- *Column names should be in lower case*\n",
    "- *White spaces in column names should be replaced by `_`*\n",
    "- *`st` could be replaced for `state`*"
   ]
  },
  {
   "cell_type": "code",
   "execution_count": null,
   "id": "5810735c-8056-4442-bbf2-dda38d3e284a",
   "metadata": {
    "id": "5810735c-8056-4442-bbf2-dda38d3e284a"
   },
   "outputs": [],
   "source": [
    "import pandas as pd\n",
    "\n",
    "data = pd.read_csv(\"https://raw.githubusercontent.com/data-bootcamp-v4/data/main/file1.csv\")\n",
    "data.head()"
   ]
  },
  {
   "cell_type": "code",
   "execution_count": null,
   "id": "5e22632c",
   "metadata": {},
   "outputs": [],
   "source": [
    "#Column names should be in lower case\n",
    "col_rename = []\n",
    "\n",
    "for col in data.columns:\n",
    "    col_rename.append(col.lower().replace(\" \",\"_\"))\n",
    "    \n",
    "data.columns = col_rename      \n",
    "data = data.rename(columns={'st':'state'})"
   ]
  },
  {
   "cell_type": "code",
   "execution_count": null,
   "id": "0655ddfb",
   "metadata": {},
   "outputs": [],
   "source": [
    "data.head()"
   ]
  },
  {
   "cell_type": "markdown",
   "id": "9cb501ec-36ff-4589-b872-6252bb150316",
   "metadata": {
    "id": "9cb501ec-36ff-4589-b872-6252bb150316"
   },
   "source": [
    "## Exercise 2: Cleaning invalid Values"
   ]
  },
  {
   "cell_type": "markdown",
   "id": "771fdcf3-8e20-4b06-9c24-3a93ba2b0909",
   "metadata": {
    "id": "771fdcf3-8e20-4b06-9c24-3a93ba2b0909"
   },
   "source": [
    "The dataset contains columns with inconsistent and incorrect values that could affect the accuracy of our analysis. Therefore, we need to clean these columns to ensure that they only contain valid data.\n",
    "\n",
    "Note that this exercise will focus only on cleaning inconsistent values and will not involve handling null values (NaN or None).\n",
    "\n",
    "*Hint*:\n",
    "- *Gender column contains various inconsistent values such as \"F\", \"M\", \"Femal\", \"Male\", \"female\", which need to be standardized, for example, to \"M\" and \"F\".*\n",
    "- *State abbreviations be can replaced with its full name, for example \"AZ\": \"Arizona\", \"Cali\": \"California\", \"WA\": \"Washington\"*\n",
    "- *In education, \"Bachelors\" could be replaced by \"Bachelor\"*\n",
    "- *In Customer Lifetime Value, delete the `%` character*\n",
    "- *In vehicle class, \"Sports Car\", \"Luxury SUV\" and \"Luxury Car\" could be replaced by \"Luxury\"*"
   ]
  },
  {
   "cell_type": "markdown",
   "id": "4964ba46",
   "metadata": {},
   "source": [
    "Gender column contains various inconsistent values such as \"F\", \"M\", \"Femal\", \"Male\", \"female\", which need to be standardized, for example, to \"M\" and \"F\"."
   ]
  },
  {
   "cell_type": "code",
   "execution_count": null,
   "id": "ec80767c",
   "metadata": {},
   "outputs": [],
   "source": [
    "#first of all i clean all the rows that are emtpy\n",
    "data = data.dropna(how='all')"
   ]
  },
  {
   "cell_type": "code",
   "execution_count": null,
   "id": "0cd3df65",
   "metadata": {},
   "outputs": [],
   "source": [
    "#The next step is to fill the NaNs, that are still there, with 'U' for unknown. Otherwise i cant do the next step because NaNs are float type.\n",
    "data[['gender']] = data[['gender']].fillna('U')"
   ]
  },
  {
   "cell_type": "code",
   "execution_count": null,
   "id": "c1892cf9",
   "metadata": {},
   "outputs": [],
   "source": [
    "def gender(x: str)-> str:\n",
    "    first_letter = x[0]\n",
    "    if first_letter in ['F','M']:\n",
    "        return first_letter.upper()\n",
    "    else:\n",
    "        return 'U'\n",
    "    \n",
    "data['gender'] = data['gender'].apply(gender)    \n",
    "    "
   ]
  },
  {
   "cell_type": "code",
   "execution_count": null,
   "id": "5a8bc04a",
   "metadata": {},
   "outputs": [],
   "source": [
    "data['gender'].unique()"
   ]
  },
  {
   "cell_type": "markdown",
   "id": "77e50a6a",
   "metadata": {},
   "source": [
    "State abbreviations be can replaced with its full name, for example \"AZ\": \"Arizona\", \"Cali\": \"California\", \"WA\": \"Washington\""
   ]
  },
  {
   "cell_type": "code",
   "execution_count": null,
   "id": "3f8ee5cb-50ab-48af-8a9f-9a389804033c",
   "metadata": {
    "id": "3f8ee5cb-50ab-48af-8a9f-9a389804033c"
   },
   "outputs": [],
   "source": [
    "data['state'].unique()"
   ]
  },
  {
   "cell_type": "code",
   "execution_count": null,
   "id": "f227a927",
   "metadata": {},
   "outputs": [],
   "source": [
    "def rename_country(x: str) -> str:\n",
    "    if x == 'AZ':\n",
    "        x = 'Arizona'\n",
    "        return x\n",
    "    if x == 'Cali':\n",
    "        x = 'California'\n",
    "        return x\n",
    "    if x == 'WA':\n",
    "        x = 'Washington'\n",
    "        return x\n",
    "    else:\n",
    "        return x\n",
    "    \n",
    "data['state'] = data['state'].apply(rename_country)"
   ]
  },
  {
   "cell_type": "code",
   "execution_count": null,
   "id": "a6401d62",
   "metadata": {},
   "outputs": [],
   "source": [
    "# i tryed another way. Instead of many if conditions, i want to use a dictionary where i can related the Words that should be replaced. But it dindnt realy works.\n",
    "'''\n",
    "def rename_country(x: str) -> str:\n",
    "    dic = {\"AZ\": \"Arizona\", \"Cali\": \"California\", \"WA\": \"Washington\"}\n",
    "    for key, value in dic:\n",
    "        if x == key:\n",
    "            x = value\n",
    "            return x\n",
    "        else:\n",
    "            return x   \n",
    "    \n",
    "data2 = data.copy()\n",
    "data2['state'] = data2['state'].apply(rename_country)\n",
    "'''"
   ]
  },
  {
   "cell_type": "code",
   "execution_count": null,
   "id": "024385b1",
   "metadata": {},
   "outputs": [],
   "source": [
    "data['state'].unique()"
   ]
  },
  {
   "cell_type": "markdown",
   "id": "e74b8138",
   "metadata": {},
   "source": [
    "In education, \"Bachelors\" could be replaced by \"Bachelor\""
   ]
  },
  {
   "cell_type": "code",
   "execution_count": null,
   "id": "58176a09",
   "metadata": {},
   "outputs": [],
   "source": [
    "data['education'].unique()"
   ]
  },
  {
   "cell_type": "code",
   "execution_count": null,
   "id": "def15e56",
   "metadata": {},
   "outputs": [],
   "source": [
    "data['education'] = data['education'].replace('Bachelors','Bachelor')"
   ]
  },
  {
   "cell_type": "code",
   "execution_count": null,
   "id": "d19e957a",
   "metadata": {},
   "outputs": [],
   "source": [
    "data['education'].unique()"
   ]
  },
  {
   "cell_type": "markdown",
   "id": "1c3a45a1",
   "metadata": {},
   "source": [
    "In Customer Lifetime Value, delete the % character"
   ]
  },
  {
   "cell_type": "code",
   "execution_count": null,
   "id": "27bbdffa",
   "metadata": {},
   "outputs": [],
   "source": [
    "data['customer_lifetime_value'].unique()"
   ]
  },
  {
   "cell_type": "code",
   "execution_count": null,
   "id": "261d777b",
   "metadata": {},
   "outputs": [],
   "source": [
    "data['customer_lifetime_value'] = data['customer_lifetime_value'].str.replace('%','')"
   ]
  },
  {
   "cell_type": "code",
   "execution_count": null,
   "id": "9d8311dc",
   "metadata": {},
   "outputs": [],
   "source": [
    "data['customer_lifetime_value'].unique()"
   ]
  },
  {
   "cell_type": "markdown",
   "id": "d8116e93",
   "metadata": {},
   "source": [
    "In vehicle class, \"Sports Car\", \"Luxury SUV\" and \"Luxury Car\" could be replaced by \"Luxury\""
   ]
  },
  {
   "cell_type": "code",
   "execution_count": null,
   "id": "8bdd11a5",
   "metadata": {},
   "outputs": [],
   "source": [
    "data['vehicle_class'].unique()"
   ]
  },
  {
   "cell_type": "code",
   "execution_count": null,
   "id": "c5ddc1ca",
   "metadata": {},
   "outputs": [],
   "source": [
    "data['vehicle_class'] = data['vehicle_class'].replace('Sports Car','Luxury')\n",
    "data['vehicle_class'] = data['vehicle_class'].replace('Luxury SUV','Luxury')\n",
    "data['vehicle_class'] = data['vehicle_class'].replace('Luxury Car','Luxury')"
   ]
  },
  {
   "cell_type": "code",
   "execution_count": null,
   "id": "66b2ac07",
   "metadata": {},
   "outputs": [],
   "source": [
    "data['vehicle_class'].unique()"
   ]
  },
  {
   "cell_type": "markdown",
   "id": "85ff78ce-0174-4890-9db3-8048b7d7d2d0",
   "metadata": {
    "id": "85ff78ce-0174-4890-9db3-8048b7d7d2d0"
   },
   "source": [
    "## Exercise 3: Formatting data types"
   ]
  },
  {
   "cell_type": "markdown",
   "id": "b91c2cf8-79a2-4baf-9f65-ff2fb22270bd",
   "metadata": {
    "id": "b91c2cf8-79a2-4baf-9f65-ff2fb22270bd"
   },
   "source": [
    "The data types of many columns in the dataset appear to be incorrect. This could impact the accuracy of our analysis. To ensure accurate analysis, we need to correct the data types of these columns. Please update the data types of the columns as appropriate."
   ]
  },
  {
   "cell_type": "markdown",
   "id": "43e5d853-ff9e-43b2-9d92-aef2f78764f3",
   "metadata": {
    "id": "43e5d853-ff9e-43b2-9d92-aef2f78764f3"
   },
   "source": [
    "It is important to note that this exercise does not involve handling null values (NaN or None)."
   ]
  },
  {
   "cell_type": "markdown",
   "id": "329ca691-9196-4419-8969-3596746237a1",
   "metadata": {
    "id": "329ca691-9196-4419-8969-3596746237a1"
   },
   "source": [
    "*Hint*:\n",
    "- *Customer lifetime value should be numeric*\n",
    "- *Number of open complaints has an incorrect format. Look at the different values it takes with `unique()` and take the middle value. As an example, 1/5/00 should be 5. Number of open complaints is a string - remember you can use `split()` to deal with it and take the number you need. Finally, since it should be numeric, cast the column to be in its proper type.*"
   ]
  },
  {
   "cell_type": "markdown",
   "id": "245d687e",
   "metadata": {},
   "source": [
    "Customer lifetime value should be numeric"
   ]
  },
  {
   "cell_type": "code",
   "execution_count": null,
   "id": "c9db1ed2",
   "metadata": {},
   "outputs": [],
   "source": [
    "data['customer_lifetime_value']=data['customer_lifetime_value'].astype('float64')\n",
    "data['customer_lifetime_value'].dtype"
   ]
  },
  {
   "cell_type": "markdown",
   "id": "c2c66e40",
   "metadata": {},
   "source": [
    "Number of open complaints has an incorrect format. Look at the different values it takes with unique() and take the middle value. As an example, 1/5/00 should be 5. Number of open complaints is a string - remember you can use split() to deal with it and take the number you need. Finally, since it should be numeric, cast the column to be in its proper type."
   ]
  },
  {
   "cell_type": "code",
   "execution_count": null,
   "id": "1ea464e3",
   "metadata": {},
   "outputs": [],
   "source": [
    "data['number_of_open_complaints'].unique()"
   ]
  },
  {
   "cell_type": "code",
   "execution_count": null,
   "id": "ef0514d9",
   "metadata": {},
   "outputs": [],
   "source": [
    "def split(x:str)-> str:\n",
    "    y = x.split('/')\n",
    "    return y[1]\n",
    "   \n",
    "data['number_of_open_complaints'] = data['number_of_open_complaints'].apply(split)"
   ]
  },
  {
   "cell_type": "code",
   "execution_count": null,
   "id": "3be98a83",
   "metadata": {},
   "outputs": [],
   "source": [
    "data['number_of_open_complaints'].unique()"
   ]
  },
  {
   "cell_type": "markdown",
   "id": "14c52e28-2d0c-4dd2-8bd5-3476e34fadc1",
   "metadata": {
    "id": "14c52e28-2d0c-4dd2-8bd5-3476e34fadc1"
   },
   "source": [
    "## Exercise 4: Dealing with Null values"
   ]
  },
  {
   "cell_type": "markdown",
   "id": "34b9a20f-7d32-4417-975e-1b4dfb0e16cd",
   "metadata": {
    "id": "34b9a20f-7d32-4417-975e-1b4dfb0e16cd"
   },
   "source": [
    "Identify any columns with null or missing values. Identify how many null values each column has. You can use the `isnull()` function in pandas to find columns with null values.\n",
    "\n",
    "Decide on a strategy for handling the null values. There are several options, including:\n",
    "\n",
    "- Drop the rows or columns with null values\n",
    "- Fill the null values with a specific value (such as the column mean or median for numerical variables, and mode for categorical variables)\n",
    "- Fill the null values with the previous or next value in the column\n",
    "- Fill the null values based on a more complex algorithm or model (note: we haven't covered this yet)\n",
    "\n",
    "Implement your chosen strategy to handle the null values. You can use the `fillna()` function in pandas to fill null values or `dropna()` function to drop null values.\n",
    "\n",
    "Verify that your strategy has successfully handled the null values. You can use the `isnull()` function again to check if there are still null values in the dataset.\n",
    "\n",
    "Remember to document your process and explain your reasoning for choosing a particular strategy for handling null values.\n",
    "\n",
    "After formatting data types, as a last step, convert all the numeric variables to integers using `applymap()`."
   ]
  },
  {
   "cell_type": "code",
   "execution_count": null,
   "id": "f184fc35-7831-4836-a0a5-e7f99e01b40e",
   "metadata": {
    "id": "f184fc35-7831-4836-a0a5-e7f99e01b40e"
   },
   "outputs": [],
   "source": [
    "#Checking the percentage of missing Values per column\n",
    "data.isna().sum()/data.shape[0]*100"
   ]
  },
  {
   "cell_type": "code",
   "execution_count": null,
   "id": "ff496b12",
   "metadata": {},
   "outputs": [],
   "source": [
    "#I´m using the fillna function to fill out the missing values with the mean value of the row because the percentage of missing values is very low (0,28%). \n",
    "clv_mean = data['customer_lifetime_value'].median()\n",
    "data['customer_lifetime_value'] = data['customer_lifetime_value'].fillna(clv_mean)\n",
    "data['customer_lifetime_value'].unique()"
   ]
  },
  {
   "cell_type": "code",
   "execution_count": null,
   "id": "f9f4c897",
   "metadata": {},
   "outputs": [],
   "source": [
    "#checking again\n",
    "data.isna().sum()/data.shape[0]*100"
   ]
  },
  {
   "cell_type": "code",
   "execution_count": null,
   "id": "83acf278",
   "metadata": {},
   "outputs": [],
   "source": [
    "data.info()\n",
    "col_numeric = ['customer_lifetime_value','income','monthly_premium_auto','total_claim_amount']"
   ]
  },
  {
   "cell_type": "code",
   "execution_count": null,
   "id": "25b416e0",
   "metadata": {},
   "outputs": [],
   "source": [
    "data[col_numeric]=data[col_numeric].astype('int')"
   ]
  },
  {
   "cell_type": "markdown",
   "id": "98416351-e999-4156-9834-9b00a311adfa",
   "metadata": {
    "id": "98416351-e999-4156-9834-9b00a311adfa"
   },
   "source": [
    "## Exercise 5: Dealing with duplicates"
   ]
  },
  {
   "cell_type": "markdown",
   "id": "ea0816a7-a18e-4d4c-b667-a8452a800bd1",
   "metadata": {
    "id": "ea0816a7-a18e-4d4c-b667-a8452a800bd1"
   },
   "source": [
    "Use the `.duplicated()` method to identify any duplicate rows in the dataframe.\n",
    "\n",
    "Decide on a strategy for handling the duplicates. Options include:\n",
    "- Dropping all duplicate rows\n",
    "- Keeping only the first occurrence of each duplicated row\n",
    "- Keeping only the last occurrence of each duplicated row\n",
    "- Dropping duplicates based on a subset of columns\n",
    "- Dropping duplicates based on a specific column\n",
    "\n",
    "Implement your chosen strategy using the `drop_duplicates()` function.\n",
    "\n",
    "Verify that your strategy has successfully handled the duplicates by checking for duplicates again using `.duplicated()`.\n",
    "\n",
    "Remember to document your process and explain your reasoning for choosing a particular strategy for handling duplicates.\n",
    "\n",
    "Save the cleaned dataset to a new CSV file.\n",
    "\n",
    "*Hint*: *after dropping duplicates, reset the index to ensure consistency*."
   ]
  },
  {
   "cell_type": "code",
   "execution_count": null,
   "id": "1929362c-47ed-47cb-baca-358b78d401a0",
   "metadata": {
    "id": "1929362c-47ed-47cb-baca-358b78d401a0"
   },
   "outputs": [],
   "source": [
    "# Dropping the duplicates only in the customer column make sense.\n",
    "print(data['customer'].duplicated().sum())\n",
    "print(data.duplicated().sum())\n",
    "#There are no duplicates anymore."
   ]
  },
  {
   "cell_type": "markdown",
   "id": "60840701-4783-40e2-b4d8-55303f9100c9",
   "metadata": {
    "id": "60840701-4783-40e2-b4d8-55303f9100c9"
   },
   "source": [
    "# Bonus: Challenge 2: creating functions on a separate `py` file"
   ]
  },
  {
   "cell_type": "markdown",
   "id": "9d1adb3a-17cf-4899-8041-da21a4337fb4",
   "metadata": {
    "id": "9d1adb3a-17cf-4899-8041-da21a4337fb4"
   },
   "source": [
    "Put all the data cleaning and formatting steps into functions, and create a main function that performs all the cleaning and formatting.\n",
    "\n",
    "Write these functions in separate .py file(s). By putting these steps into functions, we can make the code more modular and easier to maintain."
   ]
  },
  {
   "cell_type": "markdown",
   "id": "0e170dc2-b62c-417a-8248-e63ed18a70c4",
   "metadata": {
    "id": "0e170dc2-b62c-417a-8248-e63ed18a70c4"
   },
   "source": [
    "*Hint: autoreload module is a utility module in Python that allows you to automatically reload modules in the current session when changes are made to the source code. This can be useful in situations where you are actively developing code and want to see the effects of changes you make without having to constantly restart the Python interpreter or Jupyter Notebook kernel.*"
   ]
  },
  {
   "cell_type": "code",
   "execution_count": 1,
   "id": "d30462b3",
   "metadata": {},
   "outputs": [
    {
     "data": {
      "text/html": [
       "<div>\n",
       "<style scoped>\n",
       "    .dataframe tbody tr th:only-of-type {\n",
       "        vertical-align: middle;\n",
       "    }\n",
       "\n",
       "    .dataframe tbody tr th {\n",
       "        vertical-align: top;\n",
       "    }\n",
       "\n",
       "    .dataframe thead th {\n",
       "        text-align: right;\n",
       "    }\n",
       "</style>\n",
       "<table border=\"1\" class=\"dataframe\">\n",
       "  <thead>\n",
       "    <tr style=\"text-align: right;\">\n",
       "      <th></th>\n",
       "      <th>Customer</th>\n",
       "      <th>ST</th>\n",
       "      <th>GENDER</th>\n",
       "      <th>Education</th>\n",
       "      <th>Customer Lifetime Value</th>\n",
       "      <th>Income</th>\n",
       "      <th>Monthly Premium Auto</th>\n",
       "      <th>Number of Open Complaints</th>\n",
       "      <th>Policy Type</th>\n",
       "      <th>Vehicle Class</th>\n",
       "      <th>Total Claim Amount</th>\n",
       "    </tr>\n",
       "  </thead>\n",
       "  <tbody>\n",
       "    <tr>\n",
       "      <th>0</th>\n",
       "      <td>RB50392</td>\n",
       "      <td>Washington</td>\n",
       "      <td>NaN</td>\n",
       "      <td>Master</td>\n",
       "      <td>NaN</td>\n",
       "      <td>0.0</td>\n",
       "      <td>1000.0</td>\n",
       "      <td>1/0/00</td>\n",
       "      <td>Personal Auto</td>\n",
       "      <td>Four-Door Car</td>\n",
       "      <td>2.704934</td>\n",
       "    </tr>\n",
       "    <tr>\n",
       "      <th>1</th>\n",
       "      <td>QZ44356</td>\n",
       "      <td>Arizona</td>\n",
       "      <td>F</td>\n",
       "      <td>Bachelor</td>\n",
       "      <td>697953.59%</td>\n",
       "      <td>0.0</td>\n",
       "      <td>94.0</td>\n",
       "      <td>1/0/00</td>\n",
       "      <td>Personal Auto</td>\n",
       "      <td>Four-Door Car</td>\n",
       "      <td>1131.464935</td>\n",
       "    </tr>\n",
       "    <tr>\n",
       "      <th>2</th>\n",
       "      <td>AI49188</td>\n",
       "      <td>Nevada</td>\n",
       "      <td>F</td>\n",
       "      <td>Bachelor</td>\n",
       "      <td>1288743.17%</td>\n",
       "      <td>48767.0</td>\n",
       "      <td>108.0</td>\n",
       "      <td>1/0/00</td>\n",
       "      <td>Personal Auto</td>\n",
       "      <td>Two-Door Car</td>\n",
       "      <td>566.472247</td>\n",
       "    </tr>\n",
       "    <tr>\n",
       "      <th>3</th>\n",
       "      <td>WW63253</td>\n",
       "      <td>California</td>\n",
       "      <td>M</td>\n",
       "      <td>Bachelor</td>\n",
       "      <td>764586.18%</td>\n",
       "      <td>0.0</td>\n",
       "      <td>106.0</td>\n",
       "      <td>1/0/00</td>\n",
       "      <td>Corporate Auto</td>\n",
       "      <td>SUV</td>\n",
       "      <td>529.881344</td>\n",
       "    </tr>\n",
       "    <tr>\n",
       "      <th>4</th>\n",
       "      <td>GA49547</td>\n",
       "      <td>Washington</td>\n",
       "      <td>M</td>\n",
       "      <td>High School or Below</td>\n",
       "      <td>536307.65%</td>\n",
       "      <td>36357.0</td>\n",
       "      <td>68.0</td>\n",
       "      <td>1/0/00</td>\n",
       "      <td>Personal Auto</td>\n",
       "      <td>Four-Door Car</td>\n",
       "      <td>17.269323</td>\n",
       "    </tr>\n",
       "  </tbody>\n",
       "</table>\n",
       "</div>"
      ],
      "text/plain": [
       "  Customer          ST GENDER             Education Customer Lifetime Value  \\\n",
       "0  RB50392  Washington    NaN                Master                     NaN   \n",
       "1  QZ44356     Arizona      F              Bachelor              697953.59%   \n",
       "2  AI49188      Nevada      F              Bachelor             1288743.17%   \n",
       "3  WW63253  California      M              Bachelor              764586.18%   \n",
       "4  GA49547  Washington      M  High School or Below              536307.65%   \n",
       "\n",
       "    Income  Monthly Premium Auto Number of Open Complaints     Policy Type  \\\n",
       "0      0.0                1000.0                    1/0/00   Personal Auto   \n",
       "1      0.0                  94.0                    1/0/00   Personal Auto   \n",
       "2  48767.0                 108.0                    1/0/00   Personal Auto   \n",
       "3      0.0                 106.0                    1/0/00  Corporate Auto   \n",
       "4  36357.0                  68.0                    1/0/00   Personal Auto   \n",
       "\n",
       "   Vehicle Class  Total Claim Amount  \n",
       "0  Four-Door Car            2.704934  \n",
       "1  Four-Door Car         1131.464935  \n",
       "2   Two-Door Car          566.472247  \n",
       "3            SUV          529.881344  \n",
       "4  Four-Door Car           17.269323  "
      ]
     },
     "execution_count": 1,
     "metadata": {},
     "output_type": "execute_result"
    }
   ],
   "source": [
    "import pandas as pd\n",
    "\n",
    "data = pd.read_csv(\"https://raw.githubusercontent.com/data-bootcamp-v4/data/main/file1.csv\")\n",
    "data.head()"
   ]
  },
  {
   "cell_type": "code",
   "execution_count": 2,
   "id": "4af29c45",
   "metadata": {},
   "outputs": [],
   "source": [
    "#%%writefile function_data_cleaning_lab.py\n",
    "def replace_column_lower(df:pd.DataFrame, replace:str, replaced_by:str)-> pd.DataFrame:\n",
    "    '''\n",
    "    replaceing in every column the variable \"replace\" with the var \"replaced_by\" and lower the letters.\n",
    "    \n",
    "    '''\n",
    "    col_rename = []\n",
    "\n",
    "    for col in df.columns:\n",
    "        col_rename.append(col.lower().replace(replace,replaced_by))\n",
    "    \n",
    "    df.columns = col_rename      \n",
    "    return df\n",
    "    \n",
    "def column_rename(df:pd.DataFrame, column_name:str, replaced_by:str)-> pd.DataFrame:    \n",
    "    '''\n",
    "    replacing the column name \n",
    "    '''\n",
    "    df = df.rename(columns={column_name:replaced_by})\n",
    "    return df\n",
    "\n",
    "def drop_nan_value_rows(df:pd.DataFrame) -> pd.DataFrame:\n",
    "    '''\n",
    "    Dropping Rows if there are fully empty.\n",
    "    ''' \n",
    "    df = df.dropna(how='all')\n",
    "    return df\n",
    "\n",
    "def drop_global_duplicated(df:pd.DataFrame, col:str)-> pd.DataFrame:\n",
    "    '''\n",
    "    searching for dupliccateds in any columns and keep only the first occurrence of each duplicated row \n",
    "    '''\n",
    "    df = df.drop_duplicates(subset=col)\n",
    "    return df\n",
    "\n",
    "def replace(df:pd.DataFrame, col:str, replace:str, replaced_by:str)-> pd.DataFrame:\n",
    "    '''\n",
    "    replace a string for another string\n",
    "    ''' \n",
    "    if data[col].dtype == 'O':\n",
    "        df[col] = df[col].str.replace(replace,replaced_by)\n",
    "        return df\n",
    "\n",
    "def fillna(df:pd.DataFrame, col:str, fill:str)->pd.DataFrame:\n",
    "    '''\n",
    "    Fill all the NaNs of one column with the median of that column\n",
    "    '''\n",
    "    if fill == 'median':\n",
    "        clv_mean = df[col].median()\n",
    "        df[col] = df[col].fillna(clv_mean)\n",
    "        return df\n",
    "    if fill == 'mode':\n",
    "        clv_mode = df[col].mode()\n",
    "        df[col] = df[col].fillna(clv_mode)\n",
    "        return df\n",
    "    else:\n",
    "        df[col] = df[col].fillna(fill)\n",
    "        return df\n",
    "\n",
    "def chance_datatype(df:pd.DataFrame, col=str, d_type=type)->pd.DataFrame:\n",
    "    '''\n",
    "    chancing the datatype of a column \n",
    "    '''\n",
    "    df[col] = df[col].astype(d_type)\n",
    "    return df\n",
    "\n",
    "def split(df: pd.DataFrame, symbol:str, col:str)-> pd.DataFrame:\n",
    "    '''\n",
    "    split a string by specific symbol and indexing which split should return\n",
    "    ''' \n",
    "\n",
    "    df2 = df.copy()\n",
    "    if data[col].dtype == 'O':\n",
    "        if col not in df2.columns:\n",
    "            return df2\n",
    "        else:\n",
    "            df2[col] = df2[col].apply(lambda x: x.split(symbol)[1] )\n",
    "            \n",
    "            return df2\n",
    "\n",
    "def clean_gender_column(df: pd.DataFrame) -> pd.DataFrame:\n",
    "    '''\n",
    "    This function will take a Pandas DataFrame as an input and it will replace the values in\n",
    "    the \"gender\" column ins such a way that any gender which is not Male or Female with be \n",
    "    replaced by \"U\" otherwise the genders will be either \"F\" or \"M\"\n",
    "\n",
    "    Inputs:\n",
    "    df: Pandas DataFrame\n",
    "\n",
    "    Outputs:\n",
    "    A pandas DataFrame with the values in the \"gender\" column cleaned.\n",
    "    '''\n",
    "\n",
    "    df2 = df.copy()\n",
    "\n",
    "    if \"gender\" not in df2.columns:\n",
    "        return df2\n",
    "    else:\n",
    "        #df2['gender'] = df2['gender'].apply(lambda x: x[0].upper() if x[0].upper() in ['M', 'F'] else \"U\")\n",
    "        df2['gender'] = list(map(lambda x: x[0].upper() if x[0].upper() in ['M', 'F'] else \"U\", df2['gender']))\n",
    "        return df2\n",
    "\n",
    "def clean_columns(df: pd.DataFrame) -> pd.DataFrame:\n",
    "    '''\n",
    "    set all columns to lowercase letters and replace spaces with underscore.\n",
    "    Rename the column 'st'\n",
    "    '''\n",
    "    df = replace_column_lower(df,\" \",\"_\")\n",
    "    df = column_rename(df,'st','state')\n",
    "    return df\n",
    "\n",
    "def data_clean(df: pd.DataFrame) -> pd.DataFrame:\n",
    "    '''\n",
    "    start all cleaning functions\n",
    "    '''\n",
    "    df = drop_nan_value_rows(df)   \n",
    "    df = drop_global_duplicated(df,'customer')\n",
    "    df = replace(df,'education','Bachelors','Bachelor')\n",
    "    df = replace(df,'state','AZ','Arizona')\n",
    "    df = replace(df,'state','Cali','California')\n",
    "    df = replace(df,'state','WA','Washington')\n",
    "    df = replace(df,'vehicle_class','Sports Car','Luxury')\n",
    "    df = replace(df,'vehicle_class','Luxury SUV','Luxury')\n",
    "    df = replace(df,'vehicle_class','Luxury Car','Luxury')\n",
    "    df = replace(df,'customer_lifetime_value','%','')\n",
    "    df = fillna(df,'customer_lifetime_value','median')\n",
    "    df = chance_datatype(df,'customer_lifetime_value',float)\n",
    "    df = fillna(df,'gender','U')\n",
    "    df = clean_gender_column(df)\n",
    "    df = split(df,'/','number_of_open_complaints')\n",
    "    df = chance_datatype(df,'number_of_open_complaints',int)\n",
    "    df = chance_datatype(df,'income',int)\n",
    "    df = chance_datatype(df,'customer_lifetime_value',int)\n",
    "    df = chance_datatype(df,'monthly_premium_auto',int)\n",
    "    df = chance_datatype(df,'total_claim_amount',int)\n",
    "    return df"
   ]
  },
  {
   "cell_type": "code",
   "execution_count": 4,
   "id": "fd358dc2",
   "metadata": {},
   "outputs": [],
   "source": [
    "data = clean_columns(data)\n",
    "data = data_clean(data)"
   ]
  },
  {
   "cell_type": "code",
   "execution_count": 8,
   "id": "1706cb0e",
   "metadata": {},
   "outputs": [
    {
     "name": "stdout",
     "output_type": "stream",
     "text": [
      "<class 'pandas.core.frame.DataFrame'>\n",
      "Index: 1071 entries, 0 to 1070\n",
      "Data columns (total 11 columns):\n",
      " #   Column                     Non-Null Count  Dtype \n",
      "---  ------                     --------------  ----- \n",
      " 0   customer                   1071 non-null   object\n",
      " 1   state                      1071 non-null   object\n",
      " 2   gender                     1071 non-null   object\n",
      " 3   education                  1071 non-null   object\n",
      " 4   customer_lifetime_value    1071 non-null   int32 \n",
      " 5   income                     1071 non-null   int32 \n",
      " 6   monthly_premium_auto       1071 non-null   int32 \n",
      " 7   number_of_open_complaints  1071 non-null   int32 \n",
      " 8   policy_type                1071 non-null   object\n",
      " 9   vehicle_class              1071 non-null   object\n",
      " 10  total_claim_amount         1071 non-null   int32 \n",
      "dtypes: int32(5), object(6)\n",
      "memory usage: 79.5+ KB\n"
     ]
    },
    {
     "data": {
      "text/plain": [
       "None"
      ]
     },
     "metadata": {},
     "output_type": "display_data"
    },
    {
     "data": {
      "text/html": [
       "<div>\n",
       "<style scoped>\n",
       "    .dataframe tbody tr th:only-of-type {\n",
       "        vertical-align: middle;\n",
       "    }\n",
       "\n",
       "    .dataframe tbody tr th {\n",
       "        vertical-align: top;\n",
       "    }\n",
       "\n",
       "    .dataframe thead th {\n",
       "        text-align: right;\n",
       "    }\n",
       "</style>\n",
       "<table border=\"1\" class=\"dataframe\">\n",
       "  <thead>\n",
       "    <tr style=\"text-align: right;\">\n",
       "      <th></th>\n",
       "      <th>customer</th>\n",
       "      <th>state</th>\n",
       "      <th>gender</th>\n",
       "      <th>education</th>\n",
       "      <th>customer_lifetime_value</th>\n",
       "      <th>income</th>\n",
       "      <th>monthly_premium_auto</th>\n",
       "      <th>number_of_open_complaints</th>\n",
       "      <th>policy_type</th>\n",
       "      <th>vehicle_class</th>\n",
       "      <th>total_claim_amount</th>\n",
       "    </tr>\n",
       "  </thead>\n",
       "  <tbody>\n",
       "    <tr>\n",
       "      <th>0</th>\n",
       "      <td>RB50392</td>\n",
       "      <td>Washington</td>\n",
       "      <td>U</td>\n",
       "      <td>Master</td>\n",
       "      <td>588174</td>\n",
       "      <td>0</td>\n",
       "      <td>1000</td>\n",
       "      <td>0</td>\n",
       "      <td>Personal Auto</td>\n",
       "      <td>Four-Door Car</td>\n",
       "      <td>2</td>\n",
       "    </tr>\n",
       "    <tr>\n",
       "      <th>1</th>\n",
       "      <td>QZ44356</td>\n",
       "      <td>Arizona</td>\n",
       "      <td>F</td>\n",
       "      <td>Bachelor</td>\n",
       "      <td>697953</td>\n",
       "      <td>0</td>\n",
       "      <td>94</td>\n",
       "      <td>0</td>\n",
       "      <td>Personal Auto</td>\n",
       "      <td>Four-Door Car</td>\n",
       "      <td>1131</td>\n",
       "    </tr>\n",
       "    <tr>\n",
       "      <th>2</th>\n",
       "      <td>AI49188</td>\n",
       "      <td>Nevada</td>\n",
       "      <td>F</td>\n",
       "      <td>Bachelor</td>\n",
       "      <td>1288743</td>\n",
       "      <td>48767</td>\n",
       "      <td>108</td>\n",
       "      <td>0</td>\n",
       "      <td>Personal Auto</td>\n",
       "      <td>Two-Door Car</td>\n",
       "      <td>566</td>\n",
       "    </tr>\n",
       "    <tr>\n",
       "      <th>3</th>\n",
       "      <td>WW63253</td>\n",
       "      <td>Californiafornia</td>\n",
       "      <td>M</td>\n",
       "      <td>Bachelor</td>\n",
       "      <td>764586</td>\n",
       "      <td>0</td>\n",
       "      <td>106</td>\n",
       "      <td>0</td>\n",
       "      <td>Corporate Auto</td>\n",
       "      <td>SUV</td>\n",
       "      <td>529</td>\n",
       "    </tr>\n",
       "    <tr>\n",
       "      <th>4</th>\n",
       "      <td>GA49547</td>\n",
       "      <td>Washington</td>\n",
       "      <td>M</td>\n",
       "      <td>High School or Below</td>\n",
       "      <td>536307</td>\n",
       "      <td>36357</td>\n",
       "      <td>68</td>\n",
       "      <td>0</td>\n",
       "      <td>Personal Auto</td>\n",
       "      <td>Four-Door Car</td>\n",
       "      <td>17</td>\n",
       "    </tr>\n",
       "  </tbody>\n",
       "</table>\n",
       "</div>"
      ],
      "text/plain": [
       "  customer             state gender             education  \\\n",
       "0  RB50392        Washington      U                Master   \n",
       "1  QZ44356           Arizona      F              Bachelor   \n",
       "2  AI49188            Nevada      F              Bachelor   \n",
       "3  WW63253  Californiafornia      M              Bachelor   \n",
       "4  GA49547        Washington      M  High School or Below   \n",
       "\n",
       "   customer_lifetime_value  income  monthly_premium_auto  \\\n",
       "0                   588174       0                  1000   \n",
       "1                   697953       0                    94   \n",
       "2                  1288743   48767                   108   \n",
       "3                   764586       0                   106   \n",
       "4                   536307   36357                    68   \n",
       "\n",
       "   number_of_open_complaints     policy_type  vehicle_class  \\\n",
       "0                          0   Personal Auto  Four-Door Car   \n",
       "1                          0   Personal Auto  Four-Door Car   \n",
       "2                          0   Personal Auto   Two-Door Car   \n",
       "3                          0  Corporate Auto            SUV   \n",
       "4                          0   Personal Auto  Four-Door Car   \n",
       "\n",
       "   total_claim_amount  \n",
       "0                   2  \n",
       "1                1131  \n",
       "2                 566  \n",
       "3                 529  \n",
       "4                  17  "
      ]
     },
     "metadata": {},
     "output_type": "display_data"
    }
   ],
   "source": [
    "display(data.info())\n",
    "display(data.head())"
   ]
  },
  {
   "cell_type": "markdown",
   "id": "80f846bb-3f5e-4ca2-96c0-900728daca5a",
   "metadata": {
    "id": "80f846bb-3f5e-4ca2-96c0-900728daca5a",
    "tags": []
   },
   "source": [
    "# Bonus: Challenge 3: Analyzing Clean and Formated Data"
   ]
  },
  {
   "cell_type": "markdown",
   "id": "9021630e-cc90-446c-b5bd-264d6c864207",
   "metadata": {
    "id": "9021630e-cc90-446c-b5bd-264d6c864207"
   },
   "source": [
    "You have been tasked with analyzing the data to identify potential areas for improving customer retention and profitability. Your goal is to identify customers with a high policy claim amount and a low customer lifetime value.\n",
    "\n",
    "In the Pandas Lab, we only looked at high policy claim amounts because we couldn't look into low customer lifetime values. If we had tried to work with that column, we wouldn't have been able to because customer lifetime value wasn't clean and in its proper format. So after cleaning and formatting the data, let's get some more interesting insights!\n",
    "\n",
    "Instructions:\n",
    "\n",
    "- Review the statistics again for total claim amount and customer lifetime value to gain an understanding of the data.\n",
    "- To identify potential areas for improving customer retention and profitability, we want to focus on customers with a high policy claim amount and a low customer lifetime value. Consider customers with a high policy claim amount to be those in the top 25% of the total claim amount, and clients with a low customer lifetime value to be those in the bottom 25% of the customer lifetime value. Create a pandas DataFrame object that contains information about customers with a policy claim amount greater than the 75th percentile and a customer lifetime value in the bottom 25th percentile.\n",
    "- Use DataFrame methods to calculate summary statistics about the high policy claim amount and low customer lifetime value data. To do so, select both columns of the dataframe simultaneously and pass it to the `.describe()` method. This will give you descriptive statistics, such as mean, median, standard deviation, minimum and maximum values for both columns at the same time, allowing you to compare and analyze their characteristics."
   ]
  },
  {
   "cell_type": "code",
   "execution_count": null,
   "id": "42c511c9",
   "metadata": {},
   "outputs": [],
   "source": [
    "data.info()"
   ]
  },
  {
   "cell_type": "code",
   "execution_count": null,
   "id": "211e82b5-461a-4d6f-8a23-4deccb84173c",
   "metadata": {
    "id": "211e82b5-461a-4d6f-8a23-4deccb84173c"
   },
   "outputs": [],
   "source": [
    "#Review the statistics again for total claim amount and customer lifetime value to gain an understanding of the data.\n",
    "display(data['total_claim_amount'].describe().round(2))\n",
    "display(data['customer_lifetime_value'].describe().round(2))"
   ]
  },
  {
   "cell_type": "code",
   "execution_count": null,
   "id": "6b08779e",
   "metadata": {},
   "outputs": [],
   "source": [
    "#Create a pandas DataFrame object that contains information about customers with a policy claim amount \n",
    "#greater than the 75th percentile and a customer lifetime value in the bottom 25th percentile.\n",
    "data_filter_highclaim_lowclv=data[(data['total_claim_amount']>data['total_claim_amount'].describe()[6])&(data['customer_lifetime_value']<data['customer_lifetime_value'].describe()[4])]\n",
    "data_filter_highclaim_lowclv.head()"
   ]
  },
  {
   "cell_type": "code",
   "execution_count": null,
   "id": "e85f3fff",
   "metadata": {},
   "outputs": [],
   "source": [
    "#Use DataFrame methods to calculate summary statistics about the high policy claim amount and low customer \n",
    "#lifetime value data. To do so, select both columns of the dataframe simultaneously and pass it to the .describe() method. \n",
    "#This will give you descriptive statistics, such as mean, median, standard deviation, minimum and maximum values for both \n",
    "#columns at the same time, allowing you to compare and analyze their characteristics.\n",
    "data_filter_highclaim_lowclv[['total_claim_amount','customer_lifetime_value']].describe()"
   ]
  },
  {
   "cell_type": "code",
   "execution_count": null,
   "id": "4b78a8c5",
   "metadata": {},
   "outputs": [],
   "source": []
  },
  {
   "cell_type": "code",
   "execution_count": null,
   "id": "aa9410e4",
   "metadata": {},
   "outputs": [],
   "source": []
  }
 ],
 "metadata": {
  "colab": {
   "provenance": []
  },
  "kernelspec": {
   "display_name": "Python 3 (ipykernel)",
   "language": "python",
   "name": "python3"
  },
  "language_info": {
   "codemirror_mode": {
    "name": "ipython",
    "version": 3
   },
   "file_extension": ".py",
   "mimetype": "text/x-python",
   "name": "python",
   "nbconvert_exporter": "python",
   "pygments_lexer": "ipython3",
   "version": "3.11.5"
  }
 },
 "nbformat": 4,
 "nbformat_minor": 5
}
